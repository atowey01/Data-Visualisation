{
 "cells": [
  {
   "cell_type": "markdown",
   "metadata": {
    "toc": true
   },
   "source": [
    "<h1>Table of Contents<span class=\"tocSkip\"></span></h1>\n",
    "<div class=\"toc\"><ul class=\"toc-item\"><li><span><a href=\"#Overview\" data-toc-modified-id=\"Overview-1\"><span class=\"toc-item-num\">1&nbsp;&nbsp;</span>Overview</a></span></li><li><span><a href=\"#Set-Up-Virtual-Environment-&amp;-Import-Modules\" data-toc-modified-id=\"Set-Up-Virtual-Environment-&amp;-Import-Modules-2\"><span class=\"toc-item-num\">2&nbsp;&nbsp;</span>Set Up Virtual Environment &amp; Import Modules</a></span></li><li><span><a href=\"#Read-in-Data\" data-toc-modified-id=\"Read-in-Data-3\"><span class=\"toc-item-num\">3&nbsp;&nbsp;</span>Read in Data</a></span></li><li><span><a href=\"#Basic-Exploration-&amp;-Cleaning\" data-toc-modified-id=\"Basic-Exploration-&amp;-Cleaning-4\"><span class=\"toc-item-num\">4&nbsp;&nbsp;</span>Basic Exploration &amp; Cleaning</a></span></li><li><span><a href=\"#Plots\" data-toc-modified-id=\"Plots-5\"><span class=\"toc-item-num\">5&nbsp;&nbsp;</span>Plots</a></span><ul class=\"toc-item\"><li><span><a href=\"#Tickets-Over-Time-(Line-Chart)\" data-toc-modified-id=\"Tickets-Over-Time-(Line-Chart)-5.1\"><span class=\"toc-item-num\">5.1&nbsp;&nbsp;</span>Tickets Over Time (Line Chart)</a></span></li><li><span><a href=\"#Average-Number-of-Tickets-per-Weekday-(Column-Chart)\" data-toc-modified-id=\"Average-Number-of-Tickets-per-Weekday-(Column-Chart)-5.2\"><span class=\"toc-item-num\">5.2&nbsp;&nbsp;</span>Average Number of Tickets per Weekday (Column Chart)</a></span></li><li><span><a href=\"#Top-Vehicle-Makes-(Column-Chart-&amp;-Word-Cloud)\" data-toc-modified-id=\"Top-Vehicle-Makes-(Column-Chart-&amp;-Word-Cloud)-5.3\"><span class=\"toc-item-num\">5.3&nbsp;&nbsp;</span>Top Vehicle Makes (Column Chart &amp; Word Cloud)</a></span></li><li><span><a href=\"#Tickets-Over-Time-Total-vs-Ford-(Line-Chart-with-Subplots)\" data-toc-modified-id=\"Tickets-Over-Time-Total-vs-Ford-(Line-Chart-with-Subplots)-5.4\"><span class=\"toc-item-num\">5.4&nbsp;&nbsp;</span>Tickets Over Time Total vs Ford (Line Chart with Subplots)</a></span></li><li><span><a href=\"#Tickets-by-State-(Map)\" data-toc-modified-id=\"Tickets-by-State-(Map)-5.5\"><span class=\"toc-item-num\">5.5&nbsp;&nbsp;</span>Tickets by State (Map)</a></span></li></ul></li><li><span><a href=\"#Some-Other-Useful-Code\" data-toc-modified-id=\"Some-Other-Useful-Code-6\"><span class=\"toc-item-num\">6&nbsp;&nbsp;</span>Some Other Useful Code</a></span></li></ul></div>"
   ]
  },
  {
   "cell_type": "markdown",
   "metadata": {},
   "source": [
    "# Overview"
   ]
  },
  {
   "cell_type": "markdown",
   "metadata": {},
   "source": [
    "The data we are going to work with can be found here: https://www.kaggle.com/new-york-city/nyc-parking-tickets?select=Parking_Violations_Issued_-_Fiscal_Year_2016.csv. This is quite a large file at 2GB. The data relates to parking tickets issued in the 2016 fiscal year (July 2015 - July 2016). We are going to look at creating some plots with the data. \n",
    "\n",
    "It is easy to forget the code required to make different changes to plots such as titles, colors, fontsizes etc. This notebook is being created so the code can be referred to quickly when creating plots for other projects."
   ]
  },
  {
   "cell_type": "markdown",
   "metadata": {},
   "source": [
    "# Set Up Virtual Environment & Import Modules"
   ]
  },
  {
   "cell_type": "code",
   "execution_count": 1,
   "metadata": {},
   "outputs": [],
   "source": [
    "# # set up your virtual environment\n",
    "# !pip install virtualenv\n",
    "# !virtualenv .plots_venv\n",
    "# !source .plots_venv/bin/activate"
   ]
  },
  {
   "cell_type": "code",
   "execution_count": 2,
   "metadata": {},
   "outputs": [],
   "source": [
    "# !pip install pandas\n",
    "# !pip install seaborn\n",
    "# !pip install plotly\n",
    "# !pip install cufflinks\n",
    "# !pip install us\n",
    "# !pip install wordcloud\n",
    "# !pip install psutil\n",
    "# !pip install kaleido"
   ]
  },
  {
   "cell_type": "code",
   "execution_count": 3,
   "metadata": {
    "ExecuteTime": {
     "end_time": "2020-08-20T15:51:22.728354Z",
     "start_time": "2020-08-20T15:51:22.719116Z"
    }
   },
   "outputs": [
    {
     "data": {
      "text/html": [
       "        <script type=\"text/javascript\">\n",
       "        window.PlotlyConfig = {MathJaxConfig: 'local'};\n",
       "        if (window.MathJax) {MathJax.Hub.Config({SVG: {font: \"STIX-Web\"}});}\n",
       "        if (typeof require !== 'undefined') {\n",
       "        require.undef(\"plotly\");\n",
       "        requirejs.config({\n",
       "            paths: {\n",
       "                'plotly': ['https://cdn.plot.ly/plotly-latest.min']\n",
       "            }\n",
       "        });\n",
       "        require(['plotly'], function(Plotly) {\n",
       "            window._Plotly = Plotly;\n",
       "        });\n",
       "        }\n",
       "        </script>\n",
       "        "
      ]
     },
     "metadata": {},
     "output_type": "display_data"
    }
   ],
   "source": [
    "import os\n",
    "import pandas as pd\n",
    "import re\n",
    "import seaborn as sns\n",
    "from matplotlib.dates import DateFormatter\n",
    "import matplotlib.pyplot as plt\n",
    "import numpy as np\n",
    "import matplotlib.ticker as mtick\n",
    "import requests\n",
    "from wordcloud import WordCloud\n",
    "\n",
    "import plotly.graph_objs as go \n",
    "from plotly.offline import init_notebook_mode,iplot,plot\n",
    "init_notebook_mode(connected=True)\n",
    "import us\n",
    "from census import Census\n",
    "from us import states\n",
    "import psutil"
   ]
  },
  {
   "cell_type": "markdown",
   "metadata": {},
   "source": [
    "# Read in Data"
   ]
  },
  {
   "cell_type": "code",
   "execution_count": null,
   "metadata": {},
   "outputs": [],
   "source": [
    "df = pd.read_csv('../Parking_Violations_Issued_-_Fiscal_Year_2016.csv')"
   ]
  },
  {
   "cell_type": "markdown",
   "metadata": {},
   "source": [
    "# Basic Exploration & Cleaning"
   ]
  },
  {
   "cell_type": "code",
   "execution_count": null,
   "metadata": {
    "scrolled": true
   },
   "outputs": [],
   "source": [
    "df.head()"
   ]
  },
  {
   "cell_type": "code",
   "execution_count": null,
   "metadata": {},
   "outputs": [],
   "source": [
    "# we are going to focus on a couple of columns and rename them\n",
    "df = df[['Issue Date', 'Summons Number', 'Registration State', 'Vehicle Make']]\n",
    "df.columns = ['issue_date', 'summons_number', 'reg_state', 'vehicle_make']\n",
    "df.head()"
   ]
  },
  {
   "cell_type": "code",
   "execution_count": null,
   "metadata": {},
   "outputs": [],
   "source": [
    "print(type(df['issue_date'][0])) # the date is a str so we need to convert it to datetime\n",
    "df['issue_date'] = pd.to_datetime(df['issue_date'])\n",
    "print(f'Min date: {df[\"issue_date\"].min()}')\n",
    "print(f'Max date: {df[\"issue_date\"].max()}')"
   ]
  },
  {
   "cell_type": "markdown",
   "metadata": {},
   "source": [
    "The data is meant to be from the fiscal year between July 2015 to July 2016. The min and max dates above show that all data does not fall in this range and there must have been some data entry mistakes. As the aim of this notebook is to create some plots we are going to remove any entries outside of this timeframe, which is about 300,000 of 10 million entries."
   ]
  },
  {
   "cell_type": "code",
   "execution_count": null,
   "metadata": {},
   "outputs": [],
   "source": [
    "df = df.loc[(df['issue_date']>'2015-07-01')&(df['issue_date']<'2016-07-01')]"
   ]
  },
  {
   "cell_type": "markdown",
   "metadata": {},
   "source": [
    "Check for nulls in all columns. For simplicity we will remove any rows with null values."
   ]
  },
  {
   "cell_type": "code",
   "execution_count": null,
   "metadata": {
    "scrolled": true
   },
   "outputs": [],
   "source": [
    "print(df.isnull().sum()) # show number of nulls in each column\n",
    "df = df.dropna(how='any',axis=0) # remove nulls"
   ]
  },
  {
   "cell_type": "code",
   "execution_count": null,
   "metadata": {},
   "outputs": [],
   "source": [
    "print(f'Number of states in reg_state column: {len(df.reg_state.value_counts())}') # will have to look into this later as there is only 50 states\n",
    "print(f'Number of makes in vehicle_make column: {len(df.vehicle_make.value_counts())}')"
   ]
  },
  {
   "cell_type": "markdown",
   "metadata": {},
   "source": [
    "# Plots"
   ]
  },
  {
   "cell_type": "markdown",
   "metadata": {},
   "source": [
    "## Tickets Over Time (Line Chart)"
   ]
  },
  {
   "cell_type": "markdown",
   "metadata": {},
   "source": [
    "We want to see the number of tickets issued per day over time."
   ]
  },
  {
   "cell_type": "code",
   "execution_count": null,
   "metadata": {},
   "outputs": [],
   "source": [
    "ticket_count = df.groupby('issue_date').count()\n",
    "ticket_count = ticket_count[['summons_number']]\n",
    "ticket_count = ticket_count.rename(columns={'index' :'date', 'summons_number' :'count'})"
   ]
  },
  {
   "cell_type": "code",
   "execution_count": null,
   "metadata": {
    "scrolled": false
   },
   "outputs": [],
   "source": [
    "plt.figure(figsize=(12,8))\n",
    "\n",
    "ax = sns.lineplot(x = ticket_count.index, y = 'count', data = ticket_count, palette=\"GnBu_d\")\n",
    "ax.set_xlabel('Date', fontsize=18)\n",
    "ax.set_ylabel('Number of Tickets', fontsize=18)\n",
    "ax.set_title('Tickets Issued by Day Over Time (2016)', fontsize=22)\n",
    "ax.tick_params(axis='both', which='major', labelsize=16)\n",
    "\n",
    "\n",
    "# Hide the right and top spines\n",
    "ax.spines['right'].set_visible(False)\n",
    "ax.spines['top'].set_visible(False)\n",
    "ax.yaxis.grid(True, alpha=0.4) # add horizontal grid\n",
    "\n",
    "# ax.xaxis.set_major_formatter(plt.FixedFormatter(ticket_count.index.strftime(\"%Y-%m\")))\n",
    "# ax.tick_params(axis='both', which='major', labelsize=14)\n",
    "\n",
    "# only display every x tick label,\n",
    "for ind, label in enumerate(ax.get_xticklabels()):\n",
    "    if ind % 1 == 0:  # every x label is kept\n",
    "        label.set_visible(True),\n",
    "    else:\n",
    "        label.set_visible(False)\n",
    "\n",
    "# plt.savefig('tickets_over_time.png', transparent=True)\n",
    "\n",
    "# date_form = DateFormatter(\"%Y - %d\")\n",
    "# ax.xaxis.set_major_formatter(date_form)"
   ]
  },
  {
   "cell_type": "markdown",
   "metadata": {},
   "source": [
    "Ticket volume appeared to decrease at Christmas and in June 2016. There also appears to be a weekly seasonality possibly because fewer tickets are issued on the weekend. We will investigate in the next Section 5.2."
   ]
  },
  {
   "cell_type": "markdown",
   "metadata": {},
   "source": [
    "## Average Number of Tickets per Weekday (Column Chart)"
   ]
  },
  {
   "cell_type": "markdown",
   "metadata": {},
   "source": [
    "We want to understand on which days of the week on average were the most and least tickets issued."
   ]
  },
  {
   "cell_type": "code",
   "execution_count": null,
   "metadata": {},
   "outputs": [],
   "source": [
    "data = df.copy()\n",
    "data['day'] = data['issue_date'].dt.day_name()\n",
    "data.head()\n",
    "\n",
    "# if you want to use the datetime as the index use the below\n",
    "# data = data.set_index('issue_date')\n",
    "# tickets_by_day = pd.DataFrame(data.resample('D')['summons_number'].count())"
   ]
  },
  {
   "cell_type": "code",
   "execution_count": null,
   "metadata": {},
   "outputs": [],
   "source": [
    "# first get the count of tickets for each date and assign each date it's week day name\n",
    "tickets_by_day = pd.DataFrame(data.groupby(['issue_date'])['day'].count())\n",
    "tickets_by_day['day_name'] = tickets_by_day['day'].index.day_name()\n",
    "tickets_by_day.head()"
   ]
  },
  {
   "cell_type": "code",
   "execution_count": null,
   "metadata": {},
   "outputs": [],
   "source": [
    "# now get the mean of each day name across the year\n",
    "tickets_by_day_mean = tickets_by_day.groupby(tickets_by_day.day_name).mean()\n",
    "tickets_by_day_mean.columns = ['average_tickets']\n",
    "\n",
    "# order the days so they plot in the correct order\n",
    "tickets_by_day_mean.index = pd.Categorical(tickets_by_day_mean.index, categories=\n",
    "    ['Monday','Tuesday','Wednesday','Thursday','Friday','Saturday', 'Sunday'],\n",
    "    ordered=True)\n",
    "tickets_by_day_mean = tickets_by_day_mean.sort_index()\n",
    "tickets_by_day_mean"
   ]
  },
  {
   "cell_type": "code",
   "execution_count": null,
   "metadata": {},
   "outputs": [],
   "source": [
    "plt.figure(figsize=(13,7))\n",
    "\n",
    "ax = sns.barplot(x = tickets_by_day_mean.index, y = 'average_tickets', data = tickets_by_day_mean, color='coral')\n",
    "ax.set_xlabel('Time', fontsize=18)\n",
    "ax.set_ylabel('Tickets', fontsize=18)\n",
    "ax.set_title('Average Number of Tickets Issued per Day (2016)', fontsize=22)\n",
    "ax.tick_params(axis='both', which='major', labelsize=16)\n",
    "\n",
    "\n",
    "# Hide the right and top spines\n",
    "ax.spines['right'].set_visible(False)\n",
    "ax.spines['top'].set_visible(False)\n",
    "ax.yaxis.grid(True, alpha=0.4) # add horizontal grid"
   ]
  },
  {
   "cell_type": "markdown",
   "metadata": {},
   "source": [
    "Fewer tickets on average are issued on weekend days than week days."
   ]
  },
  {
   "cell_type": "markdown",
   "metadata": {},
   "source": [
    "## Top Vehicle Makes (Column Chart & Word Cloud)"
   ]
  },
  {
   "cell_type": "markdown",
   "metadata": {},
   "source": [
    "We want to understand which vechicle make had the most tickets issued."
   ]
  },
  {
   "cell_type": "code",
   "execution_count": null,
   "metadata": {},
   "outputs": [],
   "source": [
    "frame = pd.DataFrame(df['vehicle_make'].value_counts(normalize = True))\n",
    "frame = frame.reset_index()\n",
    "frame = frame.rename(columns={'index' :'vehicle_make', 'vehicle_make' :'percentage'})\n",
    "frame['percentage'] = round(frame['percentage']*100, 1)\n",
    "frame = frame[0:10].round(2)\n",
    "frame"
   ]
  },
  {
   "cell_type": "code",
   "execution_count": null,
   "metadata": {},
   "outputs": [],
   "source": [
    "sns.set_style(\"white\")\n",
    "plt.figure(figsize=(17,9))\n",
    "\n",
    "# if we want to highlight a certain column a different colour\n",
    "# frame['colour'] = '#16A085'\n",
    "# clrs = list(frame['colour'])\n",
    "# clrs[-5] = '#ea4335'\n",
    "# if doing the above need to change palette=clrs in sns.barplot\n",
    "\n",
    "ax=sns.barplot(x='vehicle_make', y='percentage',data=frame, dodge = False, color='darkcyan') \n",
    "# palette=clrs\n",
    "# palette=\"GnBu_d\"\n",
    "\n",
    "for item in ax.get_xticklabels():\n",
    "    item.set_rotation(70)\n",
    "\n",
    "ax.yaxis.set_major_formatter(mtick.PercentFormatter())\n",
    "\n",
    "ax.yaxis.grid(True)\n",
    "ax.tick_params(axis='both', which='major', labelsize=16)\n",
    "ax.set_xlabel('Vehicle Make', fontsize=20)\n",
    "ax.set_ylabel('Percentage of Overall Tickets', fontsize=20)\n",
    "plt.title('Tickets by Vehicle Make (Top 10)', fontsize=22)\n",
    "\n",
    "# Hide the right and top spines\n",
    "ax.spines['right'].set_visible(False)\n",
    "ax.spines['top'].set_visible(False)\n",
    "\n",
    "# plt.savefig('tickets_by_make.png', transparent=True)"
   ]
  },
  {
   "cell_type": "markdown",
   "metadata": {},
   "source": [
    "Ford, Toyota and Honda make up about a third of all tickets issued.\n",
    "\n",
    "Like them or hate them heres a word cloud showing the same information!"
   ]
  },
  {
   "cell_type": "code",
   "execution_count": null,
   "metadata": {
    "scrolled": true
   },
   "outputs": [],
   "source": [
    "text = [[df['vehicle_make']]]\n",
    "wordcloud = WordCloud(width = 1500, height = 1200,\n",
    "                background_color ='white',\n",
    "                min_font_size = 10).generate(' '.join(df['vehicle_make'].sample(80000)))\n",
    "\n",
    "# plot the WordCloud image                       \n",
    "plt.figure(figsize = (5, 5), facecolor = None)\n",
    "plt.imshow(wordcloud)\n",
    "plt.axis(\"off\")\n",
    "plt.tight_layout(pad = 0)"
   ]
  },
  {
   "cell_type": "markdown",
   "metadata": {},
   "source": [
    "## Tickets Over Time Total vs Ford (Line Chart with Subplots)"
   ]
  },
  {
   "cell_type": "markdown",
   "metadata": {},
   "source": [
    "Lets check if the Ford tickets by day over time matches the trend of the overall tickets by day."
   ]
  },
  {
   "cell_type": "code",
   "execution_count": null,
   "metadata": {},
   "outputs": [],
   "source": [
    "ticket_count.reset_index(inplace=True)\n",
    "\n",
    "ford_df = df.loc[df['vehicle_make']=='FORD']\n",
    "ticket_count_ford = ford_df.groupby('issue_date').count()\n",
    "ticket_count_ford = ticket_count_ford[['summons_number']]\n",
    "ticket_count_ford = ticket_count_ford.rename(columns={'index' :'date', 'summons_number' :'count_ford'})\n",
    "timeseries_ticket_counts_df = ticket_count.merge(ticket_count_ford, on='issue_date')"
   ]
  },
  {
   "cell_type": "code",
   "execution_count": null,
   "metadata": {},
   "outputs": [],
   "source": [
    "# create multiple subplots in a plot\n",
    "fig, axes = plt.subplots(2,1, figsize=(15, 10), sharey=False, sharex=True)\n",
    "# fig.suptitle('test')\n",
    "\n",
    "ax1 = sns.lineplot(ax = axes[0], x = 'issue_date', y = 'count', data = timeseries_ticket_counts_df, color='#16A085')\n",
    "ax2 = sns.lineplot(ax = axes[1], x =  'issue_date', y = 'count_ford', data = timeseries_ticket_counts_df, color='#16A085')\n",
    "\n",
    "ax1.set_ylabel('Number of Tickets Overall', fontsize=18)\n",
    "ax1.set_title('Tickets by Day Over Time Overall', fontsize=22, fontdict={'fontfamily' : 'DejaVu Sans'})\n",
    "ax1.tick_params(axis='both', which='major', labelsize=15)\n",
    "\n",
    "# Hide the right and top spines\n",
    "ax1.spines['right'].set_visible(False)\n",
    "ax1.spines['top'].set_visible(False)\n",
    "ax1.yaxis.grid(True, alpha=0.2) # add horizontal grid\\n\",\n",
    "\n",
    "ax2.set_xlabel('Date', fontsize=18)\n",
    "ax2.set_ylabel('Number of Tickets Ford', fontsize=18)\n",
    "ax2.set_title('Tickets by Day Over Time Ford', fontsize=22, fontdict={'fontfamily' : 'DejaVu Sans'})\n",
    "ax2.tick_params(axis='both', which='major', labelsize=15)\n",
    "ax2.set_ylim(0, 7000) # the ford values are a lot smaller to we reduce the ylim\n",
    "\n",
    "# Hide the right and top spines\n",
    "ax2.spines['right'].set_visible(False)\n",
    "ax2.spines['top'].set_visible(False)\n",
    "ax2.yaxis.grid(True, alpha=0.2) # add horizontal grid\n",
    "\n",
    "# date_form = DateFormatter(\"%b - %d\")\n",
    "# ax2.xaxis.set_major_formatter(date_form)"
   ]
  },
  {
   "cell_type": "markdown",
   "metadata": {},
   "source": [
    "## Tickets by State (Map)"
   ]
  },
  {
   "cell_type": "markdown",
   "metadata": {},
   "source": [
    "Here we want to understand which states received the most and least tickets. We will illustrate this using a Plotly map. Here is a useful tutorial on Plotly maps: https://www.kdnuggets.com/2020/09/geographical-plots-python.html"
   ]
  },
  {
   "cell_type": "code",
   "execution_count": null,
   "metadata": {},
   "outputs": [],
   "source": [
    "print(f'Number of states in reg_state column: {len(df.reg_state.value_counts())}')"
   ]
  },
  {
   "cell_type": "markdown",
   "metadata": {},
   "source": [
    "There appears to be 68 states in the reg state column. As there are only 50 states, some of these must be incorrect. We will keep entries with a correct state for this plot. We will use the us module to get a list of states to compare to our data and identify incorrect states."
   ]
  },
  {
   "cell_type": "code",
   "execution_count": null,
   "metadata": {},
   "outputs": [],
   "source": [
    "us_states_mapping = us.states.mapping('name', 'abbr')\n",
    "us_state_abbreviations = list(us_states_mapping.values())\n",
    "len(us_state_abbreviations) # this list appears to have 59 state abbreviations, we will assume some states can take 2 abbreviations\n",
    "df_states = df.loc[df['reg_state'].isin(us_state_abbreviations)]"
   ]
  },
  {
   "cell_type": "code",
   "execution_count": null,
   "metadata": {},
   "outputs": [],
   "source": [
    "# now we will get a count of tickets for each state\n",
    "tickets_by_state = pd.DataFrame(df_states.groupby(['reg_state'])['vehicle_make'].count())\n",
    "tickets_by_state.reset_index(inplace=True)\n",
    "tickets_by_state.columns=['reg_state', 'count_of_tickets']\n",
    "tickets_by_state.head()"
   ]
  },
  {
   "cell_type": "code",
   "execution_count": null,
   "metadata": {},
   "outputs": [],
   "source": [
    "# plot the count of tickets by state\n",
    "data = dict(\n",
    "        type = 'choropleth',\n",
    "        colorscale = 'Oranges',\n",
    "        locations = tickets_by_state['reg_state'],\n",
    "        locationmode =  \"USA-states\",\n",
    "        z = tickets_by_state['count_of_tickets'],\n",
    "        text = tickets_by_state['reg_state'],\n",
    "        colorbar = {'title' : 'Number of Tickets'}\n",
    "      )\n",
    "\n",
    "layout = dict(title = '2016 Parking Tickets by US State',\n",
    "              geo = dict(projection = {'type':'mercator'}),\n",
    "              mapbox=dict(zoom=500)\n",
    "             )\n",
    "\n",
    "fig = go.Figure(data = [data],layout = layout)\n",
    "fig.update_geos(projection_type=\"orthographic\", visible=True, resolution=50, scope=\"north america\")\n",
    "fig.update_layout(margin=dict(t=50, b=0, l=0, r=0))\n",
    "# iplot(fig,validate=False)\n",
    "fig.show(\"svg\")"
   ]
  },
  {
   "cell_type": "markdown",
   "metadata": {},
   "source": [
    "There was a lot more tickets issued in the states of New York and New Jersey than the other US states. We will check if size of population is the reason for this. We can get the population of each state using the US cencus API and the python requests package. We will then use the population of each state to get the number of tickets issued per capita in each state."
   ]
  },
  {
   "cell_type": "code",
   "execution_count": null,
   "metadata": {},
   "outputs": [],
   "source": [
    "# first create our base url\n",
    "HOST = 'https://api.census.gov/data' # the api we will use\n",
    "year='2010' # 2016 is not available\n",
    "dataset = 'dec/sf1'\n",
    "base_url = \"/\".join([HOST, year, dataset])\n",
    "\n",
    "# the census api calls the parameters for the request predicates\n",
    "predicates = {} \n",
    "get_vars = ['NAME', 'P001001'] #'P001001' is the population\n",
    "predicates['get'] = \",\".join(get_vars)\n",
    "predicates['for'] = \"state:*\" # we want the population for each state\n",
    "response = requests.get(base_url, params=predicates) # now request the data from the api\n",
    "# response.text"
   ]
  },
  {
   "cell_type": "code",
   "execution_count": null,
   "metadata": {},
   "outputs": [],
   "source": [
    "# we want to take or request response and put it in a nice format\n",
    "col_names = ['name', 'total_pop', 'state'] # give the columns cleaner names\n",
    "state_pop_df = pd.DataFrame(columns=col_names, data=response.json()[1:]) # make a pandas df with the columns and the new names\n",
    "state_pop_df['total_pop'] = state_pop_df['total_pop'].astype(int)\n",
    "\n",
    "# we want to map the state names to our abbreviations so we can join to our tickets df which only has abbreviations\n",
    "state_pop_df['state_abbr'] = state_pop_df['name'].map(us_states_mapping)\n",
    "state_with_pop_df = tickets_by_state.merge(state_pop_df, left_on='reg_state', right_on='state_abbr', suffixes=('_left', '_right'))\n",
    "\n",
    "# now to get tickets issued per capita by state we divide the tickets by the population for each state\n",
    "state_with_pop_df['tickets_per_capita'] = (state_with_pop_df['count_of_tickets']/state_with_pop_df['total_pop'])*100\n",
    "state_with_pop_df.head()"
   ]
  },
  {
   "cell_type": "code",
   "execution_count": null,
   "metadata": {},
   "outputs": [],
   "source": [
    "# now lets replot\n",
    "data_per_capita = dict(\n",
    "        type = 'choropleth',\n",
    "        colorscale = 'Oranges',\n",
    "        locations = state_with_pop_df['reg_state'],\n",
    "        locationmode =  \"USA-states\",\n",
    "        z = state_with_pop_df['tickets_per_capita'],\n",
    "        text = state_with_pop_df['reg_state'],\n",
    "        colorbar = {'title' : 'Number of Tickets Per Capita'}\n",
    "      )\n",
    "\n",
    "layout = dict(title = '2016 Parking Tickets by US State (Per Capita)',\n",
    "              geo = dict(projection = {'type':'mercator'}),\n",
    "              mapbox=dict(zoom=500)\n",
    "             )\n",
    "\n",
    "fig = go.Figure(data = [data_per_capita],layout = layout)\n",
    "fig.update_geos(projection_type=\"orthographic\", visible=True, resolution=50, scope=\"north america\", showcountries=False)\n",
    "fig.update_layout(margin=dict(t=50, b=0, l=0, r=0))\n",
    "# iplot(fig,validate=False)\n",
    "fig.show(\"svg\")"
   ]
  },
  {
   "cell_type": "markdown",
   "metadata": {},
   "source": [
    "Again this plot is not very useful as New York and New Jersey also have a very high number of tickets issued per capita compared to other states. Connecticut is also quite high. This is useful information but it does not tell us much about this other states. To learn more about the other states we will exclude these 3 states from the data."
   ]
  },
  {
   "cell_type": "code",
   "execution_count": null,
   "metadata": {
    "scrolled": true
   },
   "outputs": [],
   "source": [
    "state_with_pop_df = state_with_pop_df.loc[~state_with_pop_df['reg_state'].isin(['NY', 'NJ', 'CT'])]\n",
    "\n",
    "data_per_capita = dict(\n",
    "        type = 'choropleth',\n",
    "        colorscale = 'Oranges',\n",
    "        locations = state_with_pop_df['reg_state'],\n",
    "        locationmode =  \"USA-states\",\n",
    "        z = state_with_pop_df['tickets_per_capita'],\n",
    "        text = state_with_pop_df['reg_state'],\n",
    "        colorbar = {'title' : 'Number of Tickets Per Capita'}\n",
    "      )\n",
    "\n",
    "layout = dict(title = '2016 Parking Tickets by US State Exclusing NY, NJ & CT (Per Capita)',\n",
    "              geo = dict(projection = {'type':'mercator'}), \n",
    "              mapbox=dict(zoom=3))\n",
    "\n",
    "fig = go.Figure(data = [data_per_capita], layout = layout)\n",
    "fig.update_geos(projection_type=\"orthographic\", visible=True, resolution=50, scope=\"north america\", showcountries=False)\n",
    "fig.update_layout(height=500, margin={\"r\":0,\"t\":50,\"l\":0,\"b\":0})\n",
    "# fig.layout.template = None\n",
    "# iplot(fig,validate=False)\n",
    "fig.show(\"svg\")"
   ]
  },
  {
   "cell_type": "markdown",
   "metadata": {},
   "source": [
    "Now the plot has more insights and it appears states in the east were issued a lot more tickets per capita than states in the west."
   ]
  },
  {
   "cell_type": "markdown",
   "metadata": {},
   "source": [
    "# Some Other Useful Code"
   ]
  },
  {
   "cell_type": "markdown",
   "metadata": {},
   "source": [
    "If we want to plot a timeseries but some timestamps are missing we will get an error so we need to add these timestamps and assign the value 0 to them."
   ]
  },
  {
   "cell_type": "code",
   "execution_count": null,
   "metadata": {},
   "outputs": [],
   "source": [
    "# generate timestamps in case there are any missing and merge then merge them with data\n",
    "from datetime import datetime\n",
    "timestamps = pd.DataFrame({\n",
    "    'time_interval' : pd.date_range(\n",
    "    start=datetime(2021, 1, 1, 0, 0, 0),\n",
    "    end=datetime(2021, 1, 18, 0, 0, 0),\n",
    "    freq='D'\n",
    "    )})\n",
    "\n",
    "# plot_data = timestamps.merge(all_data, how='left', on='time_interval')\n",
    "# plot_data = plot_data.fillna(0)"
   ]
  },
  {
   "cell_type": "markdown",
   "metadata": {},
   "source": [
    "Average Number of Tickets Per Hour (Column Chart) - If our date column had the time the tickets were issued we could use the following code to look at the the average number of tickets that were handed out for each hour in the day."
   ]
  },
  {
   "cell_type": "code",
   "execution_count": null,
   "metadata": {},
   "outputs": [],
   "source": [
    "# tickets = tickets.set_index('issued_date_time')\n",
    "# tickets.info()\n",
    "\n",
    "# new_df = tickets.resample('H')['text'].count()\n",
    "# new_df = pd.DataFrame(new_df)                   \n",
    "# new_df.columns = ['count']\n",
    "# new_df\n",
    "\n",
    "# avg_count_per_hours = pd.DataFrame(pd.to_numeric(round(new_df.groupby(new_df.index.hour)['count'].mean()), downcast='signed'))\n",
    "# avg_count_per_hours.index = pd.to_timedelta(avg_count_per_hours.index, unit='h') # convert hours back to timestamps\n",
    "# avg_count_per_hours.index = pd.to_datetime(avg_count_per_hours.index) # we will ignore the year in the plot\n",
    "# avg_count_per_hours \n",
    "\n",
    "# plt.figure(figsize=(15,9))\n",
    "\n",
    "# ax = sns.barplot(x = avg_count_per_hours.index, y = 'count', data = avg_count_per_hours , color='burlywood')\n",
    "# ax.set_xlabel('Time', fontsize=18)\n",
    "# ax.set_ylabel('Number of Queries', fontsize=18)\n",
    "# # ax.set_title('Average Number of Queries per Hour', fontsize=22)\n",
    "# ax.tick_params(axis='both', which='major', labelsize=16)\n",
    "\n",
    "# # Hide the right and top spines\n",
    "# ax.spines['right'].set_visible(False)\n",
    "# ax.spines['top'].set_visible(False)\n",
    "# ax.yaxis.grid(True, alpha=0.4) # add horizontal grid\n",
    "\n",
    "# date_form = DateFormatter(\"%H\")\n",
    "# ax.xaxis.set_major_formatter(date_form)"
   ]
  }
 ],
 "metadata": {
  "kernelspec": {
   "display_name": "Python 3",
   "language": "python",
   "name": "python3"
  },
  "language_info": {
   "codemirror_mode": {
    "name": "ipython",
    "version": 3
   },
   "file_extension": ".py",
   "mimetype": "text/x-python",
   "name": "python",
   "nbconvert_exporter": "python",
   "pygments_lexer": "ipython3",
   "version": "3.8.9"
  },
  "toc": {
   "base_numbering": 1,
   "nav_menu": {},
   "number_sections": true,
   "sideBar": true,
   "skip_h1_title": false,
   "title_cell": "Table of Contents",
   "title_sidebar": "Contents",
   "toc_cell": true,
   "toc_position": {},
   "toc_section_display": true,
   "toc_window_display": false
  }
 },
 "nbformat": 4,
 "nbformat_minor": 2
}
